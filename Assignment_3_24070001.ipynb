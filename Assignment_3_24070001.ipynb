{
  "nbformat": 4,
  "nbformat_minor": 0,
  "metadata": {
    "colab": {
      "provenance": []
    },
    "kernelspec": {
      "name": "python3",
      "display_name": "Python 3"
    },
    "language_info": {
      "name": "python"
    }
  },
  "cells": [
    {
      "cell_type": "code",
      "source": [
        "import numpy as np"
      ],
      "metadata": {
        "id": "J5oBZKDFt631"
      },
      "execution_count": 61,
      "outputs": []
    },
    {
      "cell_type": "markdown",
      "source": [
        "Q1:"
      ],
      "metadata": {
        "id": "TEBdyMKPPVCL"
      }
    },
    {
      "cell_type": "code",
      "source": [
        "\n",
        "#With array_split method: unequal array data distribution\n",
        "#create an array\n",
        "arr = np.array([0, 1, 2, 3, 4])\n",
        "#split array into 3 parts\n",
        "a,b,c = np.array_split(arr, 3)\n",
        "print(\"Array 1: \", a)\n",
        "print(\"Array 2: \", b)\n",
        "print(\"Array 3: \", c)"
      ],
      "metadata": {
        "colab": {
          "base_uri": "https://localhost:8080/"
        },
        "id": "s7-VR3GITK7g",
        "outputId": "9d4703c0-7503-4b54-8dda-8bdab36379ff"
      },
      "execution_count": 70,
      "outputs": [
        {
          "output_type": "stream",
          "name": "stdout",
          "text": [
            "Array 1:  [0 1]\n",
            "Array 2:  [2 3]\n",
            "Array 3:  [4]\n"
          ]
        }
      ]
    },
    {
      "cell_type": "markdown",
      "source": [
        "Q2:"
      ],
      "metadata": {
        "id": "QTBVadgHPRN9"
      }
    },
    {
      "cell_type": "code",
      "source": [
        "#flip method : for 2D Array\n",
        "#create a 2d array\n",
        "flip_arr = np.array([[1,0],[0,2]])\n",
        "print(\"Original Array: \\n\", flip_arr)\n",
        "#flip items method used\n",
        "print(\"After using flip method: \\n\", np.flip(flip_arr, axis= 1)) #row-wise exchange\n"
      ],
      "metadata": {
        "colab": {
          "base_uri": "https://localhost:8080/"
        },
        "id": "YxIcX7GuVAXc",
        "outputId": "5a9d9d2a-2044-43bb-ee43-956b29d90e1f"
      },
      "execution_count": 71,
      "outputs": [
        {
          "output_type": "stream",
          "name": "stdout",
          "text": [
            "Original Array: \n",
            " [[1 0]\n",
            " [0 2]]\n",
            "After using flip method: \n",
            " [[0 1]\n",
            " [2 0]]\n"
          ]
        }
      ]
    },
    {
      "cell_type": "markdown",
      "source": [
        "Q3:"
      ],
      "metadata": {
        "id": "9D4tXjp8ZWSl"
      }
    },
    {
      "cell_type": "code",
      "source": [
        "#pad method: 2D array of ones (4*4) with output border of zeros\n",
        "arr_ones = np.ones((4,4))\n",
        "print(\"Original Array: \\n\", arr_ones)\n",
        "print(\"After zeros border padding: \\n\", np.pad(arr_ones, pad_width = 1, mode = 'constant', constant_values = 0))\n"
      ],
      "metadata": {
        "colab": {
          "base_uri": "https://localhost:8080/"
        },
        "id": "I8s_Vr85aAfQ",
        "outputId": "cc0b6938-dbd1-4b84-c4f1-bb7f803d1c85"
      },
      "execution_count": 73,
      "outputs": [
        {
          "output_type": "stream",
          "name": "stdout",
          "text": [
            "Original Array: \n",
            " [[1. 1. 1. 1.]\n",
            " [1. 1. 1. 1.]\n",
            " [1. 1. 1. 1.]\n",
            " [1. 1. 1. 1.]]\n",
            "After zeros border padding: \n",
            " [[0. 0. 0. 0. 0. 0.]\n",
            " [0. 1. 1. 1. 1. 0.]\n",
            " [0. 1. 1. 1. 1. 0.]\n",
            " [0. 1. 1. 1. 1. 0.]\n",
            " [0. 1. 1. 1. 1. 0.]\n",
            " [0. 0. 0. 0. 0. 0.]]\n"
          ]
        }
      ]
    },
    {
      "cell_type": "markdown",
      "source": [
        "Q4:"
      ],
      "metadata": {
        "id": "UQ2YaaOlc1E0"
      }
    },
    {
      "cell_type": "code",
      "source": [
        "#row-vector can be converted to column-vector only by increasin the dimension of the existing array by one more dimension\n",
        "#create 1d array\n",
        "arr_row = np.array([1,2,3])\n",
        "print(arr_row)\n",
        "print(\"Array dimension: \",arr_row.ndim)\n",
        "#convert into 2d\n",
        "arr_swapaxes = arr_row[np.newaxis,:] #column-wise\n",
        "print(arr_swapaxes)\n",
        "print(\"Array dimension: \", arr_swapaxes.ndim)\n",
        "#convert into column vector using swapaxes function\n",
        "arr_column= np.swapaxes(arr_swapaxes,0,1)\n",
        "print(arr_column)\n",
        "print(\"Array dimension: \",  arr_column.ndim)\n",
        "\n"
      ],
      "metadata": {
        "colab": {
          "base_uri": "https://localhost:8080/"
        },
        "id": "LOd7ZeYRc3Kb",
        "outputId": "e55a00b3-63b5-4162-9a3f-70842d8f71d3"
      },
      "execution_count": 66,
      "outputs": [
        {
          "output_type": "stream",
          "name": "stdout",
          "text": [
            "[1 2 3]\n",
            "Array dimension:  1\n",
            "[[1 2 3]]\n",
            "Array dimension:  2\n",
            "[[1]\n",
            " [2]\n",
            " [3]]\n",
            "Array dimension:  2\n"
          ]
        }
      ]
    },
    {
      "cell_type": "markdown",
      "source": [],
      "metadata": {
        "id": "9eHpZwWLPUQS"
      }
    }
  ]
}